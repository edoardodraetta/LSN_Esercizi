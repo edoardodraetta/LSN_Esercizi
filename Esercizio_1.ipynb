{
 "cells": [
  {
   "cell_type": "markdown",
   "metadata": {},
   "source": [
    "### Domande \n",
    "\n",
    "1. Perché theta non può essere distribuito uniformemente?\n",
    "2. Nelle slide ci ha parlato dei generatori di numeri casuali lineari congruenzali con un algoritmo di mescolamento. Potrebbe commentare l'implementazione dell'algoritmo?\n",
    "\n",
    "### Concetti Sottolineati\n",
    "\n",
    "- contesti: simulazione di processo complesso/stocastico, soluzione di problemi deterministici\n",
    "- utilità di metodi MC: legge di convergenza va come 1/sqrt(N) indipendentemente dal numero di dimensioni --> metodo vincente!\n",
    "- in un computer gli eventi casuali sono simulati con eventi pseudo casuali\n",
    "- teoria: concetti di probabilità già noti + formalizzazione\n",
    "- **marginale e congiunta** !! assolutamente all'orale\n",
    "- **teorema del limite centrale** --> possibilità di falsificare un ipotesi, riducendo a piacere l'incertezza\n",
    "- **meglio usare numeri pseudo casuali**: ne servono troppi! riproducibilità! debugging!\n",
    "- ma è importante che l'applicazione non lo veda! \n",
    "- molto importante escludere 1! appaiono NaN. \n",
    "- legge di trasformazione di probabilità\n",
    "- campionare lorentziana\n",
    "- **medie di blocco!**\n",
    "\n"
   ]
  },
  {
   "cell_type": "code",
   "execution_count": null,
   "metadata": {
    "code_folding": [
     0
    ]
   },
   "outputs": [],
   "source": [
    "# Load random numbers\n",
    "\n",
    "from matplotlib import pyplot as plt\n",
    "import numpy as np\n",
    "import math\n",
    "\n",
    "plt.rcParams.update({'font.size': 12})\n",
    "\n",
    "uniform_rng_file = \"./data/random.out\"\n",
    "r = np.loadtxt(uniform_rng_file)"
   ]
  },
  {
   "cell_type": "code",
   "execution_count": null,
   "metadata": {
    "code_folding": [
     0
    ]
   },
   "outputs": [],
   "source": [
    "# First Integral\n",
    "\n",
    "def error(AV,AV2,n):  \n",
    "    if n==0:\n",
    "        return 0\n",
    "    else:\n",
    "        return math.sqrt((AV2[n] - AV[n]**2)/n)\n",
    "\n",
    "M = 100000     # Throws\n",
    "N = 100        # Blocks (~ Experiments)\n",
    "L = int(M/N)   # Rolls per block\n",
    "\n",
    "ave = np.zeros(N)  # Measurements for each block\n",
    "av2 = np.zeros(N)\n",
    "sum_prog = np.zeros(N) # Cumulative averages and error\n",
    "su2_prog = np.zeros(N) \n",
    "err_prog = np.zeros(N)\n",
    "\n",
    "# r = array of uniformly distributed random numbers\n",
    "\n",
    "for i in range(N):       \n",
    "    sum = 0 \n",
    "    for j in range(L):   \n",
    "        k = j+i*L        # linear index for r\n",
    "        sum += r[k]        \n",
    "    ave[i] = sum/L       \n",
    "    av2[i] = (ave[i])**2 \n",
    "\n",
    "# Cumulative blocked statistics\n",
    "for i in range(N):            \n",
    "    for j in range(i+1):      \n",
    "        sum_prog[i] += ave[j] # SUM_{j=0,i} r_j, cumulative sum of averages\n",
    "        su2_prog[i] += av2[j] # SUM_{j=0,i} (r_j)^2\n",
    "    sum_prog[i]/=(i+1) # Cumulative average (divided by number of blocks)\n",
    "    su2_prog[i]/=(i+1) # Cumulative square average\n",
    "    err_prog[i] = error(sum_prog,su2_prog,i) # Statistical uncertainty\n",
    "    \n",
    "# Plot (experimental value - expected value) with error bars\n",
    "\n",
    "x = np.arange(N)\n",
    "x*=L                       # coordinates of each error bar\n",
    "plt.figure(figsize=(10,5))\n",
    "plt.grid(True)\n",
    "plt.errorbar(x,sum_prog-0.5,yerr=err_prog)\n",
    "plt.xlabel('# throws')\n",
    "plt.ylabel('<r>-1/2')\n",
    "plt.title('Average of U[0,1)')\n",
    "# plt.savefig(\"./figures/1.1.1.png\")\n",
    "plt.show()"
   ]
  },
  {
   "cell_type": "code",
   "execution_count": null,
   "metadata": {
    "code_folding": [
     0
    ]
   },
   "outputs": [],
   "source": [
    "# Second Integral\n",
    "\n",
    "M = 100000     # Throws\n",
    "N = 100        # Blocks\n",
    "L = int(M/N)   # Rolls per block\n",
    "ave = np.zeros(N)\n",
    "av2 = np.zeros(N)\n",
    "sum_prog = np.zeros(N)\n",
    "su2_prog = np.zeros(N)\n",
    "err_prog = np.zeros(N)\n",
    "\n",
    "# Integral\n",
    "for i in range(N):       \n",
    "    sum = 0 \n",
    "    for j in range(L):   \n",
    "        k = j+i*L\n",
    "        sum += (r[k]-0.5)**2 # Integrand       \n",
    "    ave[i] = sum/L       \n",
    "    av2[i] = (ave[i])**2 \n",
    "\n",
    "# Cumulative statistics as number of blocks increases   \n",
    "for i in range(N): # {0,1,...,N}         \n",
    "    for j in range(i+1):      # j is {0}, {1,2}, {1,2,3},...\n",
    "        sum_prog[i] += ave[j] # SUM_{j=0,i} r_j, cumulative sum of averages\n",
    "        su2_prog[i] += av2[j] # SUM_{j=0,i} (r_j)^2\n",
    "    sum_prog[i]/=(i+1) # Cumulative average (divided by number of blocks)\n",
    "    su2_prog[i]/=(i+1) # Cumulative square average\n",
    "    err_prog[i] = error(sum_prog,su2_prog,i) # Statistical uncertainty\n",
    "    \n",
    "# Plot (experimental value - expected value)\n",
    "\n",
    "plt.figure(figsize=(10,5))\n",
    "plt.grid(True)\n",
    "plt.errorbar(x,sum_prog-1/12,yerr=err_prog)\n",
    "plt.xlabel('# throws')\n",
    "plt.ylabel('(<r>-1/2)^2 - 1/12')\n",
    "plt.title(\"Variance of U[0,1)\")\n",
    "# plt.savefig(\"./figures/1.1.2.png\")\n",
    "plt.show()"
   ]
  },
  {
   "cell_type": "code",
   "execution_count": null,
   "metadata": {
    "code_folding": [
     0
    ]
   },
   "outputs": [],
   "source": [
    "# Chi Squared Test\n",
    "\n",
    "M = 1000000   # Throws = 100 * 10.000\n",
    "N = 100       # Blocks\n",
    "L = int(M/N)  # Throws/Block\n",
    "n = int(L/N)  # Expected outcome \n",
    "\n",
    "chi2_sum = 0 \n",
    "chi2_prog = np.zeros(N)\n",
    "\n",
    "# r = array of random numbers\n",
    "\n",
    "# Cumulative chi squared test\n",
    "for i in range(N):\n",
    "    count = 0\n",
    "    for j in range(L):\n",
    "        k = j+i*L\n",
    "        if (( i/N <= r[k] ) and ( r[k] < ((i+1)/N) )): # r_k in [i/N, i+1 / N)\n",
    "            count+=1\n",
    "            \n",
    "    # chi2 = sum (Oi - Ei)^2 / Ei\n",
    "    chi2_sum += ((count - n)**2 / n)   \n",
    "    chi2_prog[i] = chi2_sum  \n",
    "    \n",
    "# Plot the results\n",
    "plt.figure(figsize=(10, 5))\n",
    "plt.plot(chi2_prog)\n",
    "plt.ylabel(\"Chi-Squared Value\")\n",
    "plt.xlabel(\"Number of experiments\")\n",
    "plt.title('Result of chi-squared test after {} experiments'.format(N))\n",
    "plt.grid(True)\n",
    "# plt.savefig(\"./figures/1.1.3.png\")\n",
    "plt.show()"
   ]
  },
  {
   "cell_type": "code",
   "execution_count": null,
   "metadata": {
    "code_folding": [
     0
    ]
   },
   "outputs": [],
   "source": [
    "# Central Limit theorem -- Functions and Random Numbers\n",
    "\n",
    "from scipy.stats import norm\n",
    "from scipy.stats import cauchy\n",
    "\n",
    "def sum_distribution(R, M, N):\n",
    "    '''\n",
    "    Averages M numbers in R, N times\n",
    "    '''\n",
    "    \n",
    "    sums = np.zeros(N)\n",
    "    for i in range(N): \n",
    "        for j in range(M):\n",
    "            k = j + i*M\n",
    "            sums[i] += R[k]\n",
    "        sums[i] /= M\n",
    "    return sums\n",
    "\n",
    "# Load random numbers\n",
    "\n",
    "N = 1000000\n",
    "M = 10000\n",
    "\n",
    "uni_file = \"./data/random.out\"\n",
    "lor_file = \"./data/random_lor.out\"\n",
    "exp_file = \"./data/random_exp.out\"\n",
    "r_uni = np.loadtxt(uni_file,max_rows=N)\n",
    "r_lor = np.loadtxt(lor_file,max_rows=N)\n",
    "r_exp = np.loadtxt(exp_file,max_rows=N)"
   ]
  },
  {
   "cell_type": "code",
   "execution_count": null,
   "metadata": {
    "code_folding": [
     0
    ]
   },
   "outputs": [],
   "source": [
    "# Uniform Distribution with CLT Test\n",
    "\n",
    "sum_uni_1 = sum_distribution(r_uni, 1, M)\n",
    "sum_uni_2 = sum_distribution(r_uni, 2, M)\n",
    "sum_uni_10 = sum_distribution(r_uni, 10, M)\n",
    "sum_uni_100 = sum_distribution(r_uni, 100, M)\n",
    "\n",
    "plt.rcParams.update({\"figure.titlesize\": 20})\n",
    "\n",
    "fig, axes = plt.subplots(2,2, figsize=(15, 10), sharey=True)\n",
    "plt.tight_layout()\n",
    "fig.suptitle(\"Sums of Uniformly Distributed Random Numbers\",y=1.04)\n",
    "\n",
    "axes[0,0].hist(sum_uni_1,bins=100, ec='black', density=True)\n",
    "axes[0,0].title.set_text(\"N = 1\")\n",
    "\n",
    "axes[0,1].hist(sum_uni_2,bins=100, ec='black', density=True)\n",
    "axes[0,1].title.set_text(\"N = 2\")\n",
    "\n",
    "axes[1,0].hist(sum_uni_10,bins=100, ec='black', density=True)\n",
    "axes[1,0].title.set_text(\"N = 10\")\n",
    "\n",
    "axes[1,1].hist(sum_uni_100,bins=100, ec='black', density=True)\n",
    "axes[1,1].title.set_text(\"N = 100\")\n",
    "\n",
    "\n",
    "data = sum_uni_100\n",
    "mean, std_dev = norm.fit(data) \n",
    "x = np.linspace(0.35, 0.65, 100) \n",
    "gauss_fit = norm.pdf(x, mean, std_dev)\n",
    "axes[1,1].plot(x, gauss_fit, color='red') \n",
    "plt.show()"
   ]
  },
  {
   "cell_type": "code",
   "execution_count": null,
   "metadata": {
    "code_folding": [
     0
    ]
   },
   "outputs": [],
   "source": [
    "# Exponential Distribution with CLT Test\n",
    "\n",
    "sum_exp_1 = sum_distribution(r_exp, 1, M)\n",
    "sum_exp_2 = sum_distribution(r_exp, 2, M)\n",
    "sum_exp_10 = sum_distribution(r_exp, 10, M)\n",
    "sum_exp_100 = sum_distribution(r_exp, 100, M)\n",
    "\n",
    "fig, axes = plt.subplots(2,2, figsize=(15, 10), sharey=True)\n",
    "fig.suptitle(\"Sums of Exponentially Distributed Random Numbers\",y=1.02)\n",
    "plt.tight_layout()\n",
    "\n",
    "axes[0,0].hist(sum_exp_1,bins=100, ec='black', density=True)\n",
    "axes[0,0].title.set_text(\"N = 1\")\n",
    "axes[0,1].hist(sum_exp_2,bins=100, ec='black', density=True)\n",
    "axes[0,1].title.set_text(\"N = 2\")\n",
    "axes[1,0].hist(sum_exp_10,bins=100, ec='black', density=True)\n",
    "axes[1,0].title.set_text(\"N = 10\")\n",
    "axes[1,1].hist(sum_exp_100,bins=100, ec='black', density=True)\n",
    "axes[1,1].title.set_text(\"N = 100\")\n",
    "\n",
    "data = sum_exp_100\n",
    "mean, std_dev = norm.fit(data) \n",
    "x = np.linspace(0.5, 1.5, 100) \n",
    "gauss_fit = norm.pdf(x, mean, std_dev)\n",
    "axes[1,1].plot(x, gauss_fit, color='red') \n",
    "plt.show()"
   ]
  },
  {
   "cell_type": "code",
   "execution_count": null,
   "metadata": {
    "code_folding": [
     0
    ]
   },
   "outputs": [],
   "source": [
    "# Lorentzian Distribution, a stable distribution\n",
    "\n",
    "data = sum_lor_100\n",
    "sum_lor_1 = np.clip(sum_distribution(r_lor, 1, M),-25,25)\n",
    "sum_lor_2 = np.clip(sum_distribution(r_lor, 2, M),-25,25)\n",
    "sum_lor_10 = np.clip(sum_distribution(r_lor, 10, M),-25,25)\n",
    "sum_lor_100 = np.clip(sum_distribution(r_lor, 100, M),-25,25)\n",
    "\n",
    "fig, axes = plt.subplots(2,2, figsize=(15, 10), sharey=True)\n",
    "fig.suptitle(\"Sums of Lorentzian Random Numbers\",y=1.04)\n",
    "plt.tight_layout()\n",
    "\n",
    "axes[0,0].hist(sum_lor_1,bins=200, ec='black', density=True)\n",
    "axes[0,0].title.set_text(\"N = 1\")\n",
    "axes[0,0].set_xlim([-10, 10])\n",
    "\n",
    "axes[0,1].hist(sum_lor_2,bins=200, ec='black', density=True)\n",
    "axes[0,1].title.set_text(\"N = 2\")\n",
    "axes[0,1].set_xlim([-10, 10])\n",
    "\n",
    "axes[1,0].hist(sum_lor_10,bins=200, ec='black', density=True)\n",
    "axes[1,0].title.set_text(\"N = 10\")\n",
    "axes[1,0].set_xlim([-10, 10])\n",
    "\n",
    "axes[1,1].hist(sum_lor_100,bins=200, ec='black', density=True)\n",
    "axes[1,1].title.set_text(\"N = 100\")\n",
    "axes[1,1].set_xlim([-10, 10])\n",
    "\n",
    "x = np.linspace(-10, 10, 100) \n",
    "cauchy_fit = cauchy.pdf(x) \n",
    "axes[1,1].plot(x, cauchy_fit, color='red') \n",
    "\n",
    "plt.show()"
   ]
  },
  {
   "cell_type": "code",
   "execution_count": null,
   "metadata": {
    "code_folding": [
     0
    ]
   },
   "outputs": [],
   "source": [
    "# Buffon Experiment -- Functions\n",
    "\n",
    "from IPython.display import clear_output # For progress reporting\n",
    "\n",
    "def make_pi(hits,N,d,L):\n",
    "    if (hits==0):\n",
    "        return 0\n",
    "    else:\n",
    "        return 2*L*N/(hits*d)\n",
    "\n",
    "def get_needle(X,Y,T,L):\n",
    "    \n",
    "    needle = np.ndarray(shape=(2,2))\n",
    "    \n",
    "    needle[0][0] = X\n",
    "    needle[0][1] = Y\n",
    "    needle[1][0] = X + L*np.cos(T)\n",
    "    needle[1][1] = Y + L*np.sin(T)\n",
    "    \n",
    "    return needle\n",
    "\n",
    "def count_intersections(needle,G,d):\n",
    "    \n",
    "    y1 = needle[0][1]\n",
    "    y2 = needle[1][1]\n",
    "    ends = [min(y1,y2), max(y1,y2)]\n",
    "\n",
    "    count = 0 \n",
    "    \n",
    "    for k in np.arange(0,G+d,d):\n",
    "        if (k > ends[0] and k < ends[1]):\n",
    "            count+=1\n",
    "                \n",
    "    return count\n",
    "\n",
    "def error(AV,AV2,n):  \n",
    "    if n==0:\n",
    "        return 0\n",
    "    else:\n",
    "        return math.sqrt((AV2[n] - AV[n]**2)/n)"
   ]
  },
  {
   "cell_type": "code",
   "execution_count": null,
   "metadata": {
    "code_folding": [
     0
    ]
   },
   "outputs": [],
   "source": [
    "# Buffon Experiment -- Test Run\n",
    "\n",
    "N = 500000  # Needles\n",
    "G = 50    # Grid size\n",
    "d = 10    # Grid spacing\n",
    "L = d/2   # Needle length\n",
    "\n",
    "uni_file = \"./data/random.out\"\n",
    "theta_file = \"./data/random_theta.out\"\n",
    "\n",
    "t = np.loadtxt(theta_file,max_rows=N)\n",
    "r = np.loadtxt(uni_file,max_rows=N*2)\n",
    "\n",
    "x = G*r[0:N]\n",
    "y = G*r[N:2*N]\n",
    "    \n",
    "count = 0 \n",
    "for i in range(N):\n",
    "    needle = get_needle(x[i],y[i],t[i],L)\n",
    "    count += count_intersections(needle,G,d)\n",
    "\n",
    "print(make_pi(count,N,d,L))"
   ]
  },
  {
   "cell_type": "code",
   "execution_count": null,
   "metadata": {
    "code_folding": [
     0
    ]
   },
   "outputs": [],
   "source": [
    "# Buffon experiment -- Load Random Numbers\n",
    "\n",
    "# Parameters \n",
    "M = 500000      # Total number of throws (needles)\n",
    "N = 100         # Number of blocks\n",
    "T = int(M/N)    # Number of throws per block\n",
    "\n",
    "G = 50    # Grid sidelength\n",
    "d = 10    # Gridline separation\n",
    "L = d/2   # Needle length\n",
    "\n",
    "pi_estimate = np.zeros(N)\n",
    "pi2_estimate = np.zeros(N)\n",
    "\n",
    "# Random Numbers:\n",
    "\n",
    "uni_file = \"./data/random.out\"\n",
    "theta_file = \"./data/random_theta.out\"\n",
    "\n",
    "t = np.loadtxt(theta_file,max_rows=M)\n",
    "r = np.loadtxt(uni_file,max_rows=M*2)\n",
    "\n",
    "x = G*r[0:M]\n",
    "y = G*r[M:2*M]"
   ]
  },
  {
   "cell_type": "code",
   "execution_count": null,
   "metadata": {
    "code_folding": [
     0
    ]
   },
   "outputs": [],
   "source": [
    "# Buffon Experiment -- Run\n",
    "\n",
    "for i in range(N): # block\n",
    "    \n",
    "    count = 0\n",
    "    clear_output(wait=True)\n",
    "    print(\"Progress:\", int(i/N*100), '% ...')\n",
    "    \n",
    "    for j in range(T): # experiment\n",
    "        k = j+i*T\n",
    "        needle = get_needle(x[k],y[k],t[k],L)\n",
    "        count += count_intersections(needle,G,d)\n",
    "    \n",
    "    pi_estimate[i] = make_pi(count,T,d,L) # result\n",
    "    pi2_estimate[i] = pi_estimate[i]**2\n",
    "    \n",
    "clear_output(wait=True)\n",
    "print(\"Progress: 100%!\")"
   ]
  },
  {
   "cell_type": "code",
   "execution_count": null,
   "metadata": {
    "code_folding": [
     0
    ]
   },
   "outputs": [],
   "source": [
    "# Buffon Experiment -- Statistics\n",
    "\n",
    "sum_prog = np.zeros(N) \n",
    "su2_prog = np.zeros(N) \n",
    "err_prog = np.zeros(N)\n",
    "\n",
    "for i in range(N): # Blocks            \n",
    "    for j in range(i+1):      \n",
    "        sum_prog[i] += pi_estimate[j] \n",
    "        su2_prog[i] += pi2_estimate[j] \n",
    "    sum_prog[i]/=(i+1) \n",
    "    su2_prog[i]/=(i+1) \n",
    "    err_prog[i] = error(sum_prog,su2_prog,i) \n",
    "    \n",
    "# Buffon Experiment -- Plot\n",
    "\n",
    "pi_result = round(sum_prog[N-1], 6)\n",
    "pi_error= round(err_prog[N-1], 6)\n",
    "pi_perror = round(pi_error/pi_result * 100, 6)\n",
    "print('Final estimate for pi:', pi_result, '+/-', pi_error, '(', pi_perror, '% )' )\n",
    "\n",
    "x = np.arange(N)\n",
    "x*=T  \n",
    "\n",
    "plt.figure(figsize=(10,5))\n",
    "\n",
    "plt.errorbar(x, sum_prog-np.pi,yerr=err_prog)\n",
    "plt.xlabel('# needles')\n",
    "plt.ylabel('pi - <pi>')\n",
    "plt.title(\"Buffon Experiment\")\n",
    "plt.grid(True)\n",
    "plt.savefig(\"./figures/pi.png\")"
   ]
  },
  {
   "cell_type": "code",
   "execution_count": null,
   "metadata": {},
   "outputs": [],
   "source": []
  }
 ],
 "metadata": {
  "kernelspec": {
   "display_name": "Python 3",
   "language": "python",
   "name": "python3"
  },
  "language_info": {
   "codemirror_mode": {
    "name": "ipython",
    "version": 3
   },
   "file_extension": ".py",
   "mimetype": "text/x-python",
   "name": "python",
   "nbconvert_exporter": "python",
   "pygments_lexer": "ipython3",
   "version": "3.7.6"
  }
 },
 "nbformat": 4,
 "nbformat_minor": 4
}
