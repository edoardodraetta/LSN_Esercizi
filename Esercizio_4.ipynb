{
 "cells": [
  {
   "cell_type": "markdown",
   "metadata": {},
   "source": [
    "Liouville: I punti nello spazio delle fasi (traiettorie) non possono scomparire!\n",
    "Vedremo la dinamica molecolare con energia (T?), volume e numero di particelle fissati -> microcanonico\n",
    "le equazioni del moto contengono errori di discretizzazione -> traiettorie sbagliate, instabilità di lyapunov -> ma ok, basta che siano a energia fissata\n",
    "spherical cutoff mantiene isotropia che perdiamo con minimum image convention\n",
    "initial conditions: mantenersi lontano dai disastri (es due atomi sovrapposti) -> partiamo sempre da una condizione di cristallina (solido)\n"
   ]
  }
 ],
 "metadata": {
  "kernelspec": {
   "display_name": "Python 3",
   "language": "python",
   "name": "python3"
  },
  "language_info": {
   "codemirror_mode": {
    "name": "ipython",
    "version": 3
   },
   "file_extension": ".py",
   "mimetype": "text/x-python",
   "name": "python",
   "nbconvert_exporter": "python",
   "pygments_lexer": "ipython3",
   "version": "3.7.6"
  },
  "varInspector": {
   "cols": {
    "lenName": 16,
    "lenType": 16,
    "lenVar": 40
   },
   "kernels_config": {
    "python": {
     "delete_cmd_postfix": "",
     "delete_cmd_prefix": "del ",
     "library": "var_list.py",
     "varRefreshCmd": "print(var_dic_list())"
    },
    "r": {
     "delete_cmd_postfix": ") ",
     "delete_cmd_prefix": "rm(",
     "library": "var_list.r",
     "varRefreshCmd": "cat(var_dic_list()) "
    }
   },
   "types_to_exclude": [
    "module",
    "function",
    "builtin_function_or_method",
    "instance",
    "_Feature"
   ],
   "window_display": false
  }
 },
 "nbformat": 4,
 "nbformat_minor": 4
}
